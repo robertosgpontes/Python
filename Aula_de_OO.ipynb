{
  "nbformat": 4,
  "nbformat_minor": 0,
  "metadata": {
    "colab": {
      "name": "Aula de OO",
      "provenance": [],
      "collapsed_sections": [],
      "authorship_tag": "ABX9TyNwu/X2ppCGWXqDGx/JrHsW",
      "include_colab_link": true
    },
    "kernelspec": {
      "name": "python3",
      "display_name": "Python 3"
    },
    "language_info": {
      "name": "python"
    }
  },
  "cells": [
    {
      "cell_type": "markdown",
      "metadata": {
        "id": "view-in-github",
        "colab_type": "text"
      },
      "source": [
        "<a href=\"https://colab.research.google.com/github/robertosgpontes/Python/blob/main/Aula_de_OO.ipynb\" target=\"_parent\"><img src=\"https://colab.research.google.com/assets/colab-badge.svg\" alt=\"Open In Colab\"/></a>"
      ]
    },
    {
      "cell_type": "markdown",
      "metadata": {
        "id": "P4LakauMzGeX"
      },
      "source": [
        "# POO - Programação Orientada à Objeto\n",
        "\n",
        "Classe = Grupo de Semelhantes\n",
        "\n",
        "Objetos = Abstrações do mundo físico \n"
      ]
    },
    {
      "cell_type": "code",
      "metadata": {
        "id": "Dxppb3v5N4td"
      },
      "source": [
        "class Book:\n",
        "  \n",
        "  def __init__(self, titulo, autor, isbn):\n",
        "    self.titulo = titulo\n",
        "    self.autor = autor\n",
        "    self.isbn = None"
      ],
      "execution_count": 24,
      "outputs": []
    },
    {
      "cell_type": "code",
      "metadata": {
        "colab": {
          "base_uri": "https://localhost:8080/",
          "height": 162
        },
        "id": "_A2cY7wr1F43",
        "outputId": "a3eb6005-f2ea-4f76-f23c-48538da7220e"
      },
      "source": [
        "livro = Book('Não sei', 'Desconhecido')"
      ],
      "execution_count": 7,
      "outputs": [
        {
          "output_type": "error",
          "ename": "TypeError",
          "evalue": "ignored",
          "traceback": [
            "\u001b[0;31m---------------------------------------------------------------------------\u001b[0m",
            "\u001b[0;31mTypeError\u001b[0m                                 Traceback (most recent call last)",
            "\u001b[0;32m<ipython-input-7-cd22a0059389>\u001b[0m in \u001b[0;36m<module>\u001b[0;34m()\u001b[0m\n\u001b[0;32m----> 1\u001b[0;31m \u001b[0mlivro\u001b[0m \u001b[0;34m=\u001b[0m \u001b[0mBook\u001b[0m\u001b[0;34m(\u001b[0m\u001b[0;34m'Não sei'\u001b[0m\u001b[0;34m,\u001b[0m \u001b[0;34m'Desconhecido'\u001b[0m\u001b[0;34m)\u001b[0m\u001b[0;34m\u001b[0m\u001b[0;34m\u001b[0m\u001b[0m\n\u001b[0m",
            "\u001b[0;31mTypeError\u001b[0m: __init__() missing 1 required positional argument: 'isbn'"
          ]
        }
      ]
    },
    {
      "cell_type": "code",
      "metadata": {
        "id": "K5OywCaI1ONQ"
      },
      "source": [
        "livro = Book('Não sei', 'Desconhecido', 'não informado')"
      ],
      "execution_count": 21,
      "outputs": []
    },
    {
      "cell_type": "code",
      "metadata": {
        "colab": {
          "base_uri": "https://localhost:8080/",
          "height": 35
        },
        "id": "Fy4bKgSf1eVp",
        "outputId": "6f1ece7b-6e81-4212-f724-a92ed966247b"
      },
      "source": [
        "livro.autor"
      ],
      "execution_count": 23,
      "outputs": [
        {
          "output_type": "execute_result",
          "data": {
            "application/vnd.google.colaboratory.intrinsic+json": {
              "type": "string"
            },
            "text/plain": [
              "'Sr(a). Desconhecido'"
            ]
          },
          "metadata": {
            "tags": []
          },
          "execution_count": 23
        }
      ]
    },
    {
      "cell_type": "code",
      "metadata": {
        "colab": {
          "base_uri": "https://localhost:8080/",
          "height": 35
        },
        "id": "Yx-CdNuE2A1e",
        "outputId": "b0662ed5-0572-4f30-b2c4-5eae9aeb8a5a"
      },
      "source": [
        "livro.titulo"
      ],
      "execution_count": 10,
      "outputs": [
        {
          "output_type": "execute_result",
          "data": {
            "application/vnd.google.colaboratory.intrinsic+json": {
              "type": "string"
            },
            "text/plain": [
              "'Não sei'"
            ]
          },
          "metadata": {
            "tags": []
          },
          "execution_count": 10
        }
      ]
    },
    {
      "cell_type": "code",
      "metadata": {
        "id": "I0P13IUT2C5I"
      },
      "source": [
        "livro.isbn"
      ],
      "execution_count": 14,
      "outputs": []
    },
    {
      "cell_type": "code",
      "metadata": {
        "id": "_ckf05uj3Qtz"
      },
      "source": [
        "class Book2:\n",
        "  \n",
        "  def __init__(self, titulo, autor, isbn):\n",
        "    self.titulo = titulo\n",
        "    self.__autor = autor\n",
        "    self.isbn = None"
      ],
      "execution_count": 26,
      "outputs": []
    },
    {
      "cell_type": "code",
      "metadata": {
        "id": "NhSloeEh3hAq"
      },
      "source": [
        "livro2 = Book2('Não sei', 'Desconhecido', 'não informado')"
      ],
      "execution_count": 27,
      "outputs": []
    },
    {
      "cell_type": "code",
      "metadata": {
        "colab": {
          "base_uri": "https://localhost:8080/",
          "height": 162
        },
        "id": "v9CB2ukt3q5P",
        "outputId": "743901d9-e269-44cb-c2d1-0e4753306ce9"
      },
      "source": [
        "livro2.autor"
      ],
      "execution_count": 28,
      "outputs": [
        {
          "output_type": "error",
          "ename": "AttributeError",
          "evalue": "ignored",
          "traceback": [
            "\u001b[0;31m---------------------------------------------------------------------------\u001b[0m",
            "\u001b[0;31mAttributeError\u001b[0m                            Traceback (most recent call last)",
            "\u001b[0;32m<ipython-input-28-b33df618d168>\u001b[0m in \u001b[0;36m<module>\u001b[0;34m()\u001b[0m\n\u001b[0;32m----> 1\u001b[0;31m \u001b[0mlivro2\u001b[0m\u001b[0;34m.\u001b[0m\u001b[0mautor\u001b[0m\u001b[0;34m\u001b[0m\u001b[0;34m\u001b[0m\u001b[0m\n\u001b[0m",
            "\u001b[0;31mAttributeError\u001b[0m: 'Book2' object has no attribute 'autor'"
          ]
        }
      ]
    },
    {
      "cell_type": "code",
      "metadata": {
        "colab": {
          "base_uri": "https://localhost:8080/",
          "height": 162
        },
        "id": "hpytTq8V3v1M",
        "outputId": "8cdf056a-8242-4449-ee58-804dfe133f52"
      },
      "source": [
        "livro2.__autor"
      ],
      "execution_count": 29,
      "outputs": [
        {
          "output_type": "error",
          "ename": "AttributeError",
          "evalue": "ignored",
          "traceback": [
            "\u001b[0;31m---------------------------------------------------------------------------\u001b[0m",
            "\u001b[0;31mAttributeError\u001b[0m                            Traceback (most recent call last)",
            "\u001b[0;32m<ipython-input-29-93ab9b09e5a9>\u001b[0m in \u001b[0;36m<module>\u001b[0;34m()\u001b[0m\n\u001b[0;32m----> 1\u001b[0;31m \u001b[0mlivro2\u001b[0m\u001b[0;34m.\u001b[0m\u001b[0m__autor\u001b[0m\u001b[0;34m\u001b[0m\u001b[0;34m\u001b[0m\u001b[0m\n\u001b[0m",
            "\u001b[0;31mAttributeError\u001b[0m: 'Book2' object has no attribute '__autor'"
          ]
        }
      ]
    },
    {
      "cell_type": "code",
      "metadata": {
        "id": "iBjhVnYT3ntf"
      },
      "source": [
        "class Book3:\n",
        "  \n",
        "  def __init__(self, titulo, autor, isbn):\n",
        "    self.titulo = titulo\n",
        "    self.__autor = autor\n",
        "    self.isbn = None\n",
        "  \n",
        "  def autor(self):\n",
        "    return 'Sr(a). {}'.format(self.__autor)"
      ],
      "execution_count": 31,
      "outputs": []
    },
    {
      "cell_type": "code",
      "metadata": {
        "id": "V8qgoks73p85"
      },
      "source": [
        "livro3 = Book3('Não sei', 'Desconhecido', 'não informado')"
      ],
      "execution_count": 32,
      "outputs": []
    },
    {
      "cell_type": "code",
      "metadata": {
        "colab": {
          "base_uri": "https://localhost:8080/",
          "height": 35
        },
        "id": "qlNa0lhU33TQ",
        "outputId": "a8e303b7-9d17-4f44-e30b-e8309814514b"
      },
      "source": [
        "livro3.autor()"
      ],
      "execution_count": 33,
      "outputs": [
        {
          "output_type": "execute_result",
          "data": {
            "application/vnd.google.colaboratory.intrinsic+json": {
              "type": "string"
            },
            "text/plain": [
              "'Sr(a). Desconhecido'"
            ]
          },
          "metadata": {
            "tags": []
          },
          "execution_count": 33
        }
      ]
    },
    {
      "cell_type": "code",
      "metadata": {
        "id": "9kePw3f94FLW"
      },
      "source": [
        "from datetime import datetime\n",
        "\n",
        "class Person:\n",
        "\n",
        "  def __init__(self, nome, data_nasc, uf):\n",
        "    self.__nome = nome\n",
        "    self.__data_nasc = data_nasc\n",
        "    self.__uf = uf\n",
        "\n",
        "  def get_saudacao(self):\n",
        "    return 'Olá, {}'.format(self.__nome)\n",
        "  \n",
        "  def get_idade(self):\n",
        "    return int((datetime.now() - datetime.strptime(self.__data_nasc, '%d/%m/%Y')).days/365)"
      ],
      "execution_count": 67,
      "outputs": []
    },
    {
      "cell_type": "code",
      "metadata": {
        "id": "aZ-ueep-57zo"
      },
      "source": [
        "pessoa = Person('Roberto', '11/11/1995', 'RJ')"
      ],
      "execution_count": 68,
      "outputs": []
    },
    {
      "cell_type": "code",
      "metadata": {
        "colab": {
          "base_uri": "https://localhost:8080/",
          "height": 35
        },
        "id": "T9k4siXb6CmU",
        "outputId": "5536dbca-a7a2-4754-cefa-ecfdd1324240"
      },
      "source": [
        "pessoa.get_saudacao()"
      ],
      "execution_count": 38,
      "outputs": [
        {
          "output_type": "execute_result",
          "data": {
            "application/vnd.google.colaboratory.intrinsic+json": {
              "type": "string"
            },
            "text/plain": [
              "'Olá, Roberto'"
            ]
          },
          "metadata": {
            "tags": []
          },
          "execution_count": 38
        }
      ]
    },
    {
      "cell_type": "code",
      "metadata": {
        "colab": {
          "base_uri": "https://localhost:8080/"
        },
        "id": "84XCGuDb6Fo-",
        "outputId": "0c53fa79-8126-4672-ea8c-73976e04cbf7"
      },
      "source": [
        "pessoa.get_idade()"
      ],
      "execution_count": 69,
      "outputs": [
        {
          "output_type": "execute_result",
          "data": {
            "text/plain": [
              "25"
            ]
          },
          "metadata": {
            "tags": []
          },
          "execution_count": 69
        }
      ]
    }
  ]
}