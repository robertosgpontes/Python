{
 "cells": [
  {
   "cell_type": "markdown",
   "metadata": {},
   "source": [
    "https://www.python.org/downloads/windows/\n",
    "\n",
    "https://code.visualstudio.com/\n",
    "\n",
    "https://phoenixnap.com/kb/install-pip-windows\n",
    "\n",
    "https://phoenixnap.com/kb/how-to-install-python-3-windows\n",
    "\n",
    "\n",
    "\n",
    "\n",
    "https://kenzie.com.br/blog/o-que-e-python/\n",
    "\n",
    "https://computerworld.com.br/carreira/python-10-motivos-para-aprender-a-linguagem-em-2019/"
   ]
  }
 ],
 "metadata": {
  "kernelspec": {
   "display_name": "Python 3",
   "language": "python",
   "name": "python3"
  },
  "language_info": {
   "codemirror_mode": {
    "name": "ipython",
    "version": 3
   },
   "file_extension": ".py",
   "mimetype": "text/x-python",
   "name": "python",
   "nbconvert_exporter": "python",
   "pygments_lexer": "ipython3",
   "version": "3.8.5"
  }
 },
 "nbformat": 4,
 "nbformat_minor": 4
}
