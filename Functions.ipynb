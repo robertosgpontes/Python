{
 "cells": [
  {
   "cell_type": "markdown",
   "metadata": {},
   "source": [
    "## Funcões\n",
    "\n",
    "Funções em Python são blocos de código que executarão algum tipo de tarefa ou manipulação de dados, podendo ou não receber: dados de entrada (parâmetros/argumentos).\n",
    "\n",
    "Parâmetros: são os nomes dados aos atributos que uma função pode receber. Definem quais argumentos são aceitos por uma função, podendo ou não ter um valor padrão (default).\n",
    "\n",
    "Argumentos: são os valores que realmente são passados para uma função.\n",
    "\n",
    "https://medium.com/rafaeltardivo/fun%C3%A7%C3%B5es-em-python-n-maneiras-diferentes-de-declarar-e-chamar-280d60f407fa\n",
    "\n",
    "https://medium.com/luizalabs/fun%C3%A7%C3%B5es-em-python-entendendo-par%C3%A2metros-argumentos-args-e-kwargs-4291b1f817f6"
   ]
  },
  {
   "cell_type": "code",
   "execution_count": 4,
   "metadata": {},
   "outputs": [
    {
     "name": "stdout",
     "output_type": "stream",
     "text": [
      "4\n"
     ]
    }
   ],
   "source": [
    "from funcoes import quadrado\n",
    "\n",
    "a = quadrado(2)\n",
    "\n",
    "print(a)"
   ]
  },
  {
   "cell_type": "code",
   "execution_count": 6,
   "metadata": {},
   "outputs": [
    {
     "data": {
      "text/plain": [
       "'Roberto Pontes'"
      ]
     },
     "execution_count": 6,
     "metadata": {},
     "output_type": "execute_result"
    }
   ],
   "source": [
    "def concatenar(nome, sobrenome):\n",
    "    return nome + ' ' + sobrenome\n",
    "\n",
    "concatenar('Roberto', 'Pontes')"
   ]
  },
  {
   "cell_type": "code",
   "execution_count": 7,
   "metadata": {},
   "outputs": [
    {
     "ename": "TypeError",
     "evalue": "concatenar() missing 1 required positional argument: 'sobrenome'",
     "output_type": "error",
     "traceback": [
      "\u001b[0;31m---------------------------------------------------------------------------\u001b[0m",
      "\u001b[0;31mTypeError\u001b[0m                                 Traceback (most recent call last)",
      "\u001b[0;32m<ipython-input-7-02b20455e2ad>\u001b[0m in \u001b[0;36m<module>\u001b[0;34m\u001b[0m\n\u001b[1;32m      2\u001b[0m     \u001b[0;32mreturn\u001b[0m \u001b[0mnome\u001b[0m \u001b[0;34m+\u001b[0m \u001b[0;34m' '\u001b[0m \u001b[0;34m+\u001b[0m \u001b[0msobrenome\u001b[0m\u001b[0;34m\u001b[0m\u001b[0;34m\u001b[0m\u001b[0m\n\u001b[1;32m      3\u001b[0m \u001b[0;34m\u001b[0m\u001b[0m\n\u001b[0;32m----> 4\u001b[0;31m \u001b[0mconcatenar\u001b[0m\u001b[0;34m(\u001b[0m\u001b[0;34m'Roberto'\u001b[0m\u001b[0;34m)\u001b[0m\u001b[0;34m\u001b[0m\u001b[0;34m\u001b[0m\u001b[0m\n\u001b[0m",
      "\u001b[0;31mTypeError\u001b[0m: concatenar() missing 1 required positional argument: 'sobrenome'"
     ]
    }
   ],
   "source": [
    "def concatenar(nome, sobrenome):\n",
    "    return nome + ' ' + sobrenome\n",
    "\n",
    "concatenar('Roberto')"
   ]
  },
  {
   "cell_type": "code",
   "execution_count": 8,
   "metadata": {},
   "outputs": [
    {
     "data": {
      "text/plain": [
       "'Roberto '"
      ]
     },
     "execution_count": 8,
     "metadata": {},
     "output_type": "execute_result"
    }
   ],
   "source": [
    "def concatenar(nome, sobrenome=''):\n",
    "    return nome + ' ' + sobrenome\n",
    "\n",
    "concatenar('Roberto')"
   ]
  },
  {
   "cell_type": "code",
   "execution_count": 9,
   "metadata": {},
   "outputs": [
    {
     "data": {
      "text/plain": [
       "4"
      ]
     },
     "execution_count": 9,
     "metadata": {},
     "output_type": "execute_result"
    }
   ],
   "source": [
    "def potencia(x, e=2):\n",
    "    return x**e\n",
    "\n",
    "potencia(2, 2)"
   ]
  },
  {
   "cell_type": "code",
   "execution_count": 10,
   "metadata": {},
   "outputs": [
    {
     "data": {
      "text/plain": [
       "4"
      ]
     },
     "execution_count": 10,
     "metadata": {},
     "output_type": "execute_result"
    }
   ],
   "source": [
    "potencia(2)"
   ]
  },
  {
   "cell_type": "code",
   "execution_count": 12,
   "metadata": {},
   "outputs": [
    {
     "data": {
      "text/plain": [
       "'Roberto da Silva G Pontes '"
      ]
     },
     "execution_count": 12,
     "metadata": {},
     "output_type": "execute_result"
    }
   ],
   "source": [
    "def concatenar(*args):\n",
    "        saida = ''\n",
    "        for arg in args:\n",
    "            #saida = saida + arg + ' '\n",
    "            saida += arg + ' '\n",
    "            \n",
    "        return saida\n",
    "    \n",
    "concatenar('Roberto', 'da', 'Silva', 'G', 'Pontes')"
   ]
  },
  {
   "cell_type": "code",
   "execution_count": 13,
   "metadata": {},
   "outputs": [
    {
     "data": {
      "text/plain": [
       "'Roberto Pontes '"
      ]
     },
     "execution_count": 13,
     "metadata": {},
     "output_type": "execute_result"
    }
   ],
   "source": [
    "concatenar('Roberto', 'Pontes')"
   ]
  },
  {
   "cell_type": "code",
   "execution_count": 17,
   "metadata": {},
   "outputs": [
    {
     "data": {
      "text/plain": [
       "'Roberto Pontes '"
      ]
     },
     "execution_count": 17,
     "metadata": {},
     "output_type": "execute_result"
    }
   ],
   "source": [
    "def concatenar(**kwargs):\n",
    "        saida = ''\n",
    "        for key in kwargs:\n",
    "            #saida = saida + arg + ' '\n",
    "            saida += kwargs[key] + ' '\n",
    "            \n",
    "        return saida\n",
    "concatenar(nome = 'Roberto', sobrenome='Pontes')"
   ]
  },
  {
   "cell_type": "code",
   "execution_count": 21,
   "metadata": {},
   "outputs": [
    {
     "data": {
      "text/plain": [
       "6.25"
      ]
     },
     "execution_count": 21,
     "metadata": {},
     "output_type": "execute_result"
    }
   ],
   "source": [
    "def potencia(x:float, e:int=2) -> float:\n",
    "    '''\n",
    "        Esta funcao calcula potencias\n",
    "    '''\n",
    "    return x**e\n",
    "\n",
    "potencia(2.5, 2)"
   ]
  },
  {
   "cell_type": "code",
   "execution_count": null,
   "metadata": {},
   "outputs": [],
   "source": [
    "def funcao(x:float, e:int=2, *args, **kwargs) -> float:\n",
    "    '''\n",
    "        Esta funcao faz alguma coisa\n",
    "    '''\n",
    "    return x\n",
    "\n",
    "potencia(2.5, 2)"
   ]
  },
  {
   "cell_type": "markdown",
   "metadata": {},
   "source": [
    "## Funções embutidas\n",
    "\n",
    "O interpretador do Python possui várias funções e tipos embutidos que sempre estão disponíveis. \n",
    "\n",
    "https://docs.python.org/pt-br/3/library/functions.html\n",
    "\n",
    "* Filter\n",
    "* Map"
   ]
  },
  {
   "cell_type": "markdown",
   "metadata": {},
   "source": [
    "## Funções anônimas (funções lambda)\n",
    "\n",
    "Para finalizar essa seção, trataremos de um tópico um pouco mais avançado: funções anônimas, funções lambda, ou funções de alta ordem em Python.\n",
    "\n",
    "A palavra-chave lambda em Python nos permite criar funções anônimas. Este tipo de função é útil quando desejamos passar uma função simples como argumento para outra função.\n",
    "\n",
    "A função map aplica uma função a um conjunto de valores."
   ]
  }
 ],
 "metadata": {
  "kernelspec": {
   "display_name": "Python 3.8.5 64-bit ('datascience': venv)",
   "language": "python",
   "name": "python38564bitdatasciencevenvc6b0070e1aa0499bb925ccbdc2a8bca5"
  },
  "language_info": {
   "codemirror_mode": {
    "name": "ipython",
    "version": 3
   },
   "file_extension": ".py",
   "mimetype": "text/x-python",
   "name": "python",
   "nbconvert_exporter": "python",
   "pygments_lexer": "ipython3",
   "version": "3.8.5"
  }
 },
 "nbformat": 4,
 "nbformat_minor": 4
}