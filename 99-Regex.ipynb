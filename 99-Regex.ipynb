{
 "metadata": {
  "language_info": {
   "codemirror_mode": {
    "name": "ipython",
    "version": 3
   },
   "file_extension": ".py",
   "mimetype": "text/x-python",
   "name": "python",
   "nbconvert_exporter": "python",
   "pygments_lexer": "ipython3",
   "version": 3
  },
  "orig_nbformat": 2
 },
 "nbformat": 4,
 "nbformat_minor": 2,
 "cells": [
  {
   "source": [
    "## Regex\n",
    "\n",
    "\n",
    "https://blog.geekhunter.com.br/python-regex/\n",
    "\n",
    "Leitura Complementar:\n",
    "\n",
    "https://www.w3schools.com/python/python_regex.asp\n",
    "\n",
    "https://www.programiz.com/python-programming/regex\n",
    "\n",
    "https://realpython.com/regex-python/\n",
    "\n",
    "https://docs.python.org/pt-br/3.8/howto/regex.html"
   ],
   "cell_type": "markdown",
   "metadata": {}
  }
 ]
}