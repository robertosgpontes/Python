{
 "metadata": {
  "language_info": {
   "codemirror_mode": {
    "name": "ipython",
    "version": 3
   },
   "file_extension": ".py",
   "mimetype": "text/x-python",
   "name": "python",
   "nbconvert_exporter": "python",
   "pygments_lexer": "ipython3",
   "version": "3.8.5"
  },
  "orig_nbformat": 2,
  "kernelspec": {
   "name": "python3",
   "display_name": "Python 3",
   "language": "python"
  }
 },
 "nbformat": 4,
 "nbformat_minor": 2,
 "cells": [
  {
   "source": [
    "## Estruturas de Tomada de Decisão\n",
    "\n",
    "https://docs.python.org/pt-br/3/tutorial/controlflow.html\n",
    "\n",
    "\n",
    "Estrutura geral\n",
    "\n",
    "if boolean_expression1:\n",
    "\n",
    ".... suite1\n",
    "    \n",
    "elif boolean_expression2:\n",
    "\n",
    ".... suite2\n",
    "\n",
    ".\n",
    "\n",
    ".\n",
    "\n",
    ".\n",
    "\n",
    "elif boolean_expressionN:\n",
    "\n",
    ".... suiteN\n",
    "\n",
    "else:\n",
    "\n",
    ".... else_suite"
   ],
   "cell_type": "markdown",
   "metadata": {}
  },
  {
   "cell_type": "code",
   "execution_count": 2,
   "metadata": {},
   "outputs": [],
   "source": [
    "offset = 20\n",
    "\n",
    "if not sys.platform.startswith(\"win\"):\n",
    "    offset = 10"
   ]
  },
  {
   "cell_type": "code",
   "execution_count": 32,
   "metadata": {},
   "outputs": [
    {
     "output_type": "stream",
     "name": "stdout",
     "text": [
      "Avaliação clinica necessária\n"
     ]
    }
   ],
   "source": [
    "t = 36.5\n",
    "\n",
    "if t <=35:\n",
    "    status = 'Hipotermia'\n",
    "elif 36 <= t and t <=37:\n",
    "    status = 'Normal'\n",
    "elif 37.3 <= t and t <= 37.8:\n",
    "    status = 'Estado Febril'\n",
    "elif 37.8 < t and t < 39:\n",
    "    status = 'Febre'\n",
    "elif 39 <= t and t < 40:\n",
    "    status = 'Febre alta'\n",
    "elif 40 <= t:\n",
    "    status = 'Hipertermia'\n",
    "else:\n",
    "    status = 'Avaliação clinica necessária'\n",
    "\n",
    "print(status)"
   ]
  },
  {
   "cell_type": "code",
   "execution_count": 20,
   "metadata": {},
   "outputs": [
    {
     "output_type": "execute_result",
     "data": {
      "text/plain": [
       "11"
      ]
     },
     "metadata": {},
     "execution_count": 20
    }
   ],
   "source": [
    "offset = 21 if sys.platform.startswith(\"win\") else 11\n",
    "offset"
   ]
  },
  {
   "cell_type": "code",
   "execution_count": 15,
   "metadata": {},
   "outputs": [
    {
     "output_type": "execute_result",
     "data": {
      "text/plain": [
       "110"
      ]
     },
     "metadata": {},
     "execution_count": 15
    }
   ],
   "source": [
    "margin = True\n",
    "width = 100 + 10 if margin else 0\n",
    "width"
   ]
  },
  {
   "cell_type": "code",
   "execution_count": 16,
   "metadata": {},
   "outputs": [
    {
     "output_type": "execute_result",
     "data": {
      "text/plain": [
       "0"
      ]
     },
     "metadata": {},
     "execution_count": 16
    }
   ],
   "source": [
    "margin = False\n",
    "width = 100 + 10 if margin else 0\n",
    "width"
   ]
  },
  {
   "cell_type": "code",
   "execution_count": 19,
   "metadata": {},
   "outputs": [
    {
     "output_type": "execute_result",
     "data": {
      "text/plain": [
       "100"
      ]
     },
     "metadata": {},
     "execution_count": 19
    }
   ],
   "source": [
    "margin = False\n",
    "width = 100 + (10 if margin else 0)\n",
    "width"
   ]
  }
 ]
}