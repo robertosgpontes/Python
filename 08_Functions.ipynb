{
  "nbformat": 4,
  "nbformat_minor": 0,
  "metadata": {
    "kernelspec": {
      "display_name": "Python 3.8.5 64-bit ('datascience': venv)",
      "language": "python",
      "name": "python38564bitdatasciencevenvc6b0070e1aa0499bb925ccbdc2a8bca5"
    },
    "language_info": {
      "codemirror_mode": {
        "name": "ipython",
        "version": 3
      },
      "file_extension": ".py",
      "mimetype": "text/x-python",
      "name": "python",
      "nbconvert_exporter": "python",
      "pygments_lexer": "ipython3",
      "version": "3.8.5"
    },
    "colab": {
      "name": "08-Functions.ipynb",
      "provenance": [],
      "collapsed_sections": [],
      "include_colab_link": true
    }
  },
  "cells": [
    {
      "cell_type": "markdown",
      "metadata": {
        "id": "view-in-github",
        "colab_type": "text"
      },
      "source": [
        "<a href=\"https://colab.research.google.com/github/robertosgpontes/Python/blob/main/08_Functions.ipynb\" target=\"_parent\"><img src=\"https://colab.research.google.com/assets/colab-badge.svg\" alt=\"Open In Colab\"/></a>"
      ]
    },
    {
      "cell_type": "markdown",
      "metadata": {
        "id": "k8PG9dj6nBaD"
      },
      "source": [
        "## Funcões\n",
        "\n",
        "Funções em Python são blocos de código que executarão algum tipo de tarefa ou manipulação de dados, podendo ou não receber: dados de entrada (parâmetros/argumentos).\n",
        "\n",
        "Parâmetros: são os nomes dados aos atributos que uma função pode receber. Definem quais argumentos são aceitos por uma função, podendo ou não ter um valor padrão (default).\n",
        "\n",
        "Argumentos: são os valores que realmente são passados para uma função.\n",
        "\n",
        "https://medium.com/rafaeltardivo/fun%C3%A7%C3%B5es-em-python-n-maneiras-diferentes-de-declarar-e-chamar-280d60f407fa\n",
        "\n",
        "https://medium.com/luizalabs/fun%C3%A7%C3%B5es-em-python-entendendo-par%C3%A2metros-argumentos-args-e-kwargs-4291b1f817f6"
      ]
    },
    {
      "cell_type": "code",
      "metadata": {
        "id": "ompmIn-ynBaG",
        "outputId": "ed3ab4f5-f8d0-4a72-d2f6-6c0148b865c6"
      },
      "source": [
        "from Aux_07_Functions import quadrado\n",
        "\n",
        "a = quadrado(2)\n",
        "\n",
        "print(a)"
      ],
      "execution_count": null,
      "outputs": [
        {
          "output_type": "stream",
          "text": [
            "4\n"
          ],
          "name": "stdout"
        }
      ]
    },
    {
      "cell_type": "code",
      "metadata": {
        "id": "ofdhIpdCnBaI",
        "outputId": "55d05535-1464-4c53-9433-ed0d1f19080b"
      },
      "source": [
        "def concatenar(nome, sobrenome):\n",
        "    return nome + ' ' + sobrenome\n",
        "\n",
        "concatenar('Roberto', 'Pontes')"
      ],
      "execution_count": null,
      "outputs": [
        {
          "output_type": "execute_result",
          "data": {
            "text/plain": [
              "'Roberto Pontes'"
            ]
          },
          "metadata": {
            "tags": []
          },
          "execution_count": 6
        }
      ]
    },
    {
      "cell_type": "code",
      "metadata": {
        "id": "IjFflJEInBaI",
        "outputId": "2ed3a3d6-faa9-407f-f373-d517f3658854"
      },
      "source": [
        "def concatenar(nome, sobrenome):\n",
        "    return nome + ' ' + sobrenome\n",
        "\n",
        "concatenar('Roberto')"
      ],
      "execution_count": null,
      "outputs": [
        {
          "output_type": "error",
          "ename": "TypeError",
          "evalue": "concatenar() missing 1 required positional argument: 'sobrenome'",
          "traceback": [
            "\u001b[0;31m---------------------------------------------------------------------------\u001b[0m",
            "\u001b[0;31mTypeError\u001b[0m                                 Traceback (most recent call last)",
            "\u001b[0;32m<ipython-input-7-02b20455e2ad>\u001b[0m in \u001b[0;36m<module>\u001b[0;34m\u001b[0m\n\u001b[1;32m      2\u001b[0m     \u001b[0;32mreturn\u001b[0m \u001b[0mnome\u001b[0m \u001b[0;34m+\u001b[0m \u001b[0;34m' '\u001b[0m \u001b[0;34m+\u001b[0m \u001b[0msobrenome\u001b[0m\u001b[0;34m\u001b[0m\u001b[0;34m\u001b[0m\u001b[0m\n\u001b[1;32m      3\u001b[0m \u001b[0;34m\u001b[0m\u001b[0m\n\u001b[0;32m----> 4\u001b[0;31m \u001b[0mconcatenar\u001b[0m\u001b[0;34m(\u001b[0m\u001b[0;34m'Roberto'\u001b[0m\u001b[0;34m)\u001b[0m\u001b[0;34m\u001b[0m\u001b[0;34m\u001b[0m\u001b[0m\n\u001b[0m",
            "\u001b[0;31mTypeError\u001b[0m: concatenar() missing 1 required positional argument: 'sobrenome'"
          ]
        }
      ]
    },
    {
      "cell_type": "code",
      "metadata": {
        "id": "6L1S7GkInBaJ",
        "outputId": "6c068038-0166-4735-ed3d-415c7f102ef2"
      },
      "source": [
        "def concatenar(nome, sobrenome=''):\n",
        "    return nome + ' ' + sobrenome\n",
        "\n",
        "concatenar('Roberto')"
      ],
      "execution_count": null,
      "outputs": [
        {
          "output_type": "execute_result",
          "data": {
            "text/plain": [
              "'Roberto '"
            ]
          },
          "metadata": {
            "tags": []
          },
          "execution_count": 8
        }
      ]
    },
    {
      "cell_type": "code",
      "metadata": {
        "id": "Aw-ISaBInBaJ",
        "outputId": "f47a39a5-806d-45d0-e863-96d24d0842b8"
      },
      "source": [
        "def potencia(x, e=2):\n",
        "    return x**e\n",
        "\n",
        "potencia(2, 2)"
      ],
      "execution_count": null,
      "outputs": [
        {
          "output_type": "execute_result",
          "data": {
            "text/plain": [
              "4"
            ]
          },
          "metadata": {
            "tags": []
          },
          "execution_count": 9
        }
      ]
    },
    {
      "cell_type": "code",
      "metadata": {
        "id": "q5X7H60inBaK",
        "outputId": "6265817c-5f38-4de2-af2b-486c0d60fddb"
      },
      "source": [
        "potencia(2)"
      ],
      "execution_count": null,
      "outputs": [
        {
          "output_type": "execute_result",
          "data": {
            "text/plain": [
              "4"
            ]
          },
          "metadata": {
            "tags": []
          },
          "execution_count": 10
        }
      ]
    },
    {
      "cell_type": "code",
      "metadata": {
        "colab": {
          "base_uri": "https://localhost:8080/",
          "height": 69
        },
        "id": "54mSXlVdnBaL",
        "outputId": "3368f18d-ac0d-45d8-b61c-a9679933aaeb"
      },
      "source": [
        "%time\n",
        "\n",
        "def concatenar(*args):\n",
        "        saida = ''\n",
        "        for arg in args:\n",
        "            #saida = saida + arg + ' '\n",
        "            saida += arg + ' '\n",
        "            \n",
        "        return saida\n",
        "    \n",
        "concatenar('Roberto', 'da', 'Silva', 'G', 'Pontes')"
      ],
      "execution_count": 10,
      "outputs": [
        {
          "output_type": "stream",
          "text": [
            "CPU times: user 3 µs, sys: 1e+03 ns, total: 4 µs\n",
            "Wall time: 8.82 µs\n"
          ],
          "name": "stdout"
        },
        {
          "output_type": "execute_result",
          "data": {
            "application/vnd.google.colaboratory.intrinsic+json": {
              "type": "string"
            },
            "text/plain": [
              "'Roberto da Silva G Pontes '"
            ]
          },
          "metadata": {
            "tags": []
          },
          "execution_count": 10
        }
      ]
    },
    {
      "cell_type": "code",
      "metadata": {
        "colab": {
          "base_uri": "https://localhost:8080/",
          "height": 69
        },
        "id": "bw7gIxNvnhL3",
        "outputId": "e6d899f3-f1cb-4d76-c34e-f238ebfd7541"
      },
      "source": [
        "%time\n",
        "\n",
        "def concatenar (*args):\n",
        "  return ' '.join(args)\n",
        "\n",
        "concatenar('Roberto', 'da', 'Silva', 'G', 'Pontes')"
      ],
      "execution_count": 11,
      "outputs": [
        {
          "output_type": "stream",
          "text": [
            "CPU times: user 3 µs, sys: 1e+03 ns, total: 4 µs\n",
            "Wall time: 8.82 µs\n"
          ],
          "name": "stdout"
        },
        {
          "output_type": "execute_result",
          "data": {
            "application/vnd.google.colaboratory.intrinsic+json": {
              "type": "string"
            },
            "text/plain": [
              "'Roberto da Silva G Pontes'"
            ]
          },
          "metadata": {
            "tags": []
          },
          "execution_count": 11
        }
      ]
    },
    {
      "cell_type": "code",
      "metadata": {
        "id": "FZwL9r0EnBaL",
        "outputId": "25c45120-cf5a-469a-9e62-cf54c66402a5"
      },
      "source": [
        "concatenar('Roberto', 'Pontes')"
      ],
      "execution_count": null,
      "outputs": [
        {
          "output_type": "execute_result",
          "data": {
            "text/plain": [
              "'Roberto Pontes '"
            ]
          },
          "metadata": {
            "tags": []
          },
          "execution_count": 13
        }
      ]
    },
    {
      "cell_type": "code",
      "metadata": {
        "id": "PoFBcOZknBaM",
        "outputId": "d7fbf8ee-465b-40cf-f608-b5defb43e176"
      },
      "source": [
        "def concatenar(**kwargs):\n",
        "        saida = ''\n",
        "        for key in kwargs:\n",
        "            #saida = saida + arg + ' '\n",
        "            saida += kwargs[key] + ' '\n",
        "            \n",
        "        return saida\n",
        "concatenar(nome = 'Roberto', sobrenome='Pontes')"
      ],
      "execution_count": null,
      "outputs": [
        {
          "output_type": "execute_result",
          "data": {
            "text/plain": [
              "'Roberto Pontes '"
            ]
          },
          "metadata": {
            "tags": []
          },
          "execution_count": 17
        }
      ]
    },
    {
      "cell_type": "code",
      "metadata": {
        "id": "oT-3a02-nBaM",
        "outputId": "a0d812a8-f828-4fba-8b9c-46678ef04709"
      },
      "source": [
        "def potencia(x:float, e:int=2) -> float:\n",
        "    '''\n",
        "        Esta funcao calcula potencias\n",
        "    '''\n",
        "    return x**e\n",
        "\n",
        "potencia(2.5, 2)"
      ],
      "execution_count": null,
      "outputs": [
        {
          "output_type": "execute_result",
          "data": {
            "text/plain": [
              "6.25"
            ]
          },
          "metadata": {
            "tags": []
          },
          "execution_count": 21
        }
      ]
    },
    {
      "cell_type": "code",
      "metadata": {
        "id": "9CbLcLennBaN"
      },
      "source": [
        "def funcao(x:float, e:int=2, *args, **kwargs) -> float:\n",
        "    '''\n",
        "        Esta funcao faz alguma coisa\n",
        "    '''\n",
        "    return x"
      ],
      "execution_count": null,
      "outputs": []
    },
    {
      "cell_type": "markdown",
      "metadata": {
        "id": "zzchW4F3nBaN"
      },
      "source": [
        "## Funções embutidas\n",
        "\n",
        "O interpretador do Python possui várias funções e tipos embutidos que sempre estão disponíveis. \n",
        "\n",
        "https://docs.python.org/pt-br/3/library/functions.html\n",
        "\n",
        "https://www.geeksforgeeks.org/reduce-in-python/\n",
        "\n",
        "* Filter\n",
        "* Map\n",
        "* Reduce"
      ]
    },
    {
      "cell_type": "code",
      "metadata": {
        "id": "IKtcpfSUpvVx"
      },
      "source": [
        "i = [1, 3, 2, 6, 5, 9, 1, 20, 5, 1, 0]"
      ],
      "execution_count": 12,
      "outputs": []
    },
    {
      "cell_type": "code",
      "metadata": {
        "colab": {
          "base_uri": "https://localhost:8080/"
        },
        "id": "rbsFxvm_rO89",
        "outputId": "fe642cd0-c4f0-4814-9b26-d54018d3aefb"
      },
      "source": [
        "for x in range(0, len(i)):\n",
        "  if i[x] == 1:\n",
        "    i[x] = 0\n",
        "\n",
        "i"
      ],
      "execution_count": 15,
      "outputs": [
        {
          "output_type": "execute_result",
          "data": {
            "text/plain": [
              "[0, 3, 2, 6, 5, 9, 0, 20, 5, 0, 0]"
            ]
          },
          "metadata": {
            "tags": []
          },
          "execution_count": 15
        }
      ]
    },
    {
      "cell_type": "code",
      "metadata": {
        "id": "KHslZoIxrwz0"
      },
      "source": [
        "def m(x):\n",
        "  if x == 1:\n",
        "    return 0\n",
        "  return x"
      ],
      "execution_count": 17,
      "outputs": []
    },
    {
      "cell_type": "code",
      "metadata": {
        "id": "Bl6ahrhZsxLg"
      },
      "source": [
        "def m(x):\n",
        "  return 0 if x == 1 else x"
      ],
      "execution_count": 19,
      "outputs": []
    },
    {
      "cell_type": "code",
      "metadata": {
        "id": "cu4vDkQdsLUR"
      },
      "source": [
        "def m(x):\n",
        "  if x == 1:\n",
        "    return 0\n",
        "  else:\n",
        "    return x"
      ],
      "execution_count": null,
      "outputs": []
    },
    {
      "cell_type": "code",
      "metadata": {
        "id": "Ztfzyn4PsNBr"
      },
      "source": [
        "def m(x):\n",
        "  if x == 1:\n",
        "    aux = 0\n",
        "  else:\n",
        "    aux = x\n",
        "\n",
        "  return aux"
      ],
      "execution_count": null,
      "outputs": []
    },
    {
      "cell_type": "code",
      "metadata": {
        "colab": {
          "base_uri": "https://localhost:8080/"
        },
        "id": "TkDUFFH3sAG5",
        "outputId": "5994f432-a351-426c-fa35-723725305b8b"
      },
      "source": [
        "i = [1, 3, 2, 6, 5, 9, 1, 20, 5, 1, 0]\n",
        "\n",
        "list(map(m, i))"
      ],
      "execution_count": 20,
      "outputs": [
        {
          "output_type": "execute_result",
          "data": {
            "text/plain": [
              "[0, 3, 2, 6, 5, 9, 0, 20, 5, 0, 0]"
            ]
          },
          "metadata": {
            "tags": []
          },
          "execution_count": 20
        }
      ]
    },
    {
      "cell_type": "code",
      "metadata": {
        "colab": {
          "base_uri": "https://localhost:8080/"
        },
        "id": "_m_GvNNHtz9F",
        "outputId": "2bffb31d-c64b-49a2-d6c0-5592d4ccb421"
      },
      "source": [
        "i = [1, 3, 2, 6, 5, 9, 1, 20, 5, 1, 0]\n",
        "\n",
        "aux = []\n",
        "\n",
        "for x in i:\n",
        "  if x >= 5:\n",
        "    aux.append(x)\n",
        "\n",
        "i = aux\n",
        "\n",
        "i"
      ],
      "execution_count": 23,
      "outputs": [
        {
          "output_type": "execute_result",
          "data": {
            "text/plain": [
              "[6, 5, 9, 20, 5]"
            ]
          },
          "metadata": {
            "tags": []
          },
          "execution_count": 23
        }
      ]
    },
    {
      "cell_type": "code",
      "metadata": {
        "id": "wp2Xz0hTu0Kg"
      },
      "source": [
        "def f(x):\n",
        "  return True if x >= 5 else False"
      ],
      "execution_count": 24,
      "outputs": []
    },
    {
      "cell_type": "code",
      "metadata": {
        "colab": {
          "base_uri": "https://localhost:8080/"
        },
        "id": "7_GmJoz_vv8f",
        "outputId": "b07b30d3-9de3-44f8-d605-da764ac12011"
      },
      "source": [
        "list(filter(f, i))"
      ],
      "execution_count": 28,
      "outputs": [
        {
          "output_type": "execute_result",
          "data": {
            "text/plain": [
              "[6, 5, 9, 20, 5]"
            ]
          },
          "metadata": {
            "tags": []
          },
          "execution_count": 28
        }
      ]
    },
    {
      "cell_type": "code",
      "metadata": {
        "id": "6VRos1qwwJBQ"
      },
      "source": [
        "df[df.column >= 5]\n",
        "\n",
        "df[df['column'] >= 5]\n",
        "\n",
        "df.query('column >= 5 & column2 < 20')"
      ],
      "execution_count": null,
      "outputs": []
    },
    {
      "cell_type": "code",
      "metadata": {
        "id": "X4J51Lwqzsh_"
      },
      "source": [
        "def r(x, y):\n",
        "  return x + y"
      ],
      "execution_count": 44,
      "outputs": []
    },
    {
      "cell_type": "code",
      "metadata": {
        "colab": {
          "base_uri": "https://localhost:8080/"
        },
        "id": "tLyiJm1Nzwg2",
        "outputId": "a421e56e-d114-4edb-e8e2-bc2fc423220f"
      },
      "source": [
        "from functools import reduce\n",
        "\n",
        "i = [1, 3, 2, 6, 5, 9, 1, 20, 5, 1, 1]\n",
        "\n",
        "reduce(r, i)"
      ],
      "execution_count": 45,
      "outputs": [
        {
          "output_type": "execute_result",
          "data": {
            "text/plain": [
              "54"
            ]
          },
          "metadata": {
            "tags": []
          },
          "execution_count": 45
        }
      ]
    },
    {
      "cell_type": "markdown",
      "metadata": {
        "id": "Mfa5SMDiyNi9"
      },
      "source": [
        "[1, 3, 2, 6, 5, 9, 1, 20, 5, 1, 0]\n",
        "\n",
        "[4, 8, 14, 21, 6, 0]\n",
        "\n",
        "[12 35, 6]\n",
        "\n",
        "[47, 6]\n",
        "\n",
        "[53]"
      ]
    },
    {
      "cell_type": "code",
      "metadata": {
        "id": "lj85-Ea6xgcR"
      },
      "source": [
        "def r(x, y):\n",
        "  return (1-0.1)*x + 0.1*y"
      ],
      "execution_count": 42,
      "outputs": []
    },
    {
      "cell_type": "code",
      "metadata": {
        "colab": {
          "base_uri": "https://localhost:8080/"
        },
        "id": "OSJGCKRdw3O3",
        "outputId": "732d885e-e8a3-48ad-8528-1195dddcb346"
      },
      "source": [
        "from functools import reduce\n",
        "\n",
        "i = [1, 3, 2, 6, 5, 9, 1, 20, 5, 1, 1]\n",
        "\n",
        "reduce(r, i)"
      ],
      "execution_count": 43,
      "outputs": [
        {
          "output_type": "execute_result",
          "data": {
            "text/plain": [
              "3.7537476688000013"
            ]
          },
          "metadata": {
            "tags": []
          },
          "execution_count": 43
        }
      ]
    },
    {
      "cell_type": "code",
      "metadata": {
        "colab": {
          "base_uri": "https://localhost:8080/"
        },
        "id": "WoIURSgzxwWi",
        "outputId": "bbed62c3-04fd-49a8-f690-25482d8848d6"
      },
      "source": [
        "sum(i)"
      ],
      "execution_count": 32,
      "outputs": [
        {
          "output_type": "execute_result",
          "data": {
            "text/plain": [
              "53"
            ]
          },
          "metadata": {
            "tags": []
          },
          "execution_count": 32
        }
      ]
    },
    {
      "cell_type": "markdown",
      "metadata": {
        "id": "ubDhWj13nBaN"
      },
      "source": [
        "## Funções anônimas (funções lambda)\n",
        "\n",
        "Para finalizar essa seção, trataremos de um tópico um pouco mais avançado: funções anônimas, funções lambda, ou funções de alta ordem em Python.\n",
        "\n",
        "A palavra-chave lambda em Python nos permite criar funções anônimas. Este tipo de função é útil quando desejamos passar uma função simples como argumento para outra função.\n",
        "\n",
        "A função map aplica uma função a um conjunto de valores."
      ]
    },
    {
      "cell_type": "code",
      "metadata": {
        "id": "JTP0JMhg0Bs7"
      },
      "source": [
        ""
      ],
      "execution_count": null,
      "outputs": []
    }
  ]
}