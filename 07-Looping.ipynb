{
 "metadata": {
  "language_info": {
   "codemirror_mode": {
    "name": "ipython",
    "version": 3
   },
   "file_extension": ".py",
   "mimetype": "text/x-python",
   "name": "python",
   "nbconvert_exporter": "python",
   "pygments_lexer": "ipython3",
   "version": "3.8.5"
  },
  "orig_nbformat": 2,
  "kernelspec": {
   "name": "python3",
   "display_name": "Python 3",
   "language": "python"
  }
 },
 "nbformat": 4,
 "nbformat_minor": 2,
 "cells": [
  {
   "source": [
    "## Estruturas de Repetição\n",
    "\n",
    "https://docs.python.org/pt-br/3/tutorial/controlflow.html\n"
   ],
   "cell_type": "markdown",
   "metadata": {}
  },
  {
   "cell_type": "code",
   "execution_count": 2,
   "metadata": {},
   "outputs": [
    {
     "output_type": "stream",
     "name": "stdout",
     "text": [
      "0\n1\n2\n3\n4\n5\n6\n7\n8\n9\n"
     ]
    }
   ],
   "source": [
    "for i in range(0, 10):\n",
    "    print(i)"
   ]
  },
  {
   "source": [
    "Problema de fatorial não recursivo"
   ],
   "cell_type": "markdown",
   "metadata": {}
  },
  {
   "cell_type": "code",
   "execution_count": null,
   "metadata": {},
   "outputs": [],
   "source": [
    "x = 10\n",
    "\n",
    "y = 1/3\n",
    "\n",
    "while x > 0:\n",
    "\n",
    "    x -= y\n"
   ]
  },
  {
   "source": [
    "Comandos break, continue e pass"
   ],
   "cell_type": "markdown",
   "metadata": {}
  },
  {
   "source": [
    "Problema do números primos"
   ],
   "cell_type": "markdown",
   "metadata": {}
  }
 ]
}