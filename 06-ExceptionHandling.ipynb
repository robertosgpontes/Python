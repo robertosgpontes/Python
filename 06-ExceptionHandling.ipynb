{
 "metadata": {
  "language_info": {
   "codemirror_mode": {
    "name": "ipython",
    "version": 3
   },
   "file_extension": ".py",
   "mimetype": "text/x-python",
   "name": "python",
   "nbconvert_exporter": "python",
   "pygments_lexer": "ipython3",
   "version": 3
  },
  "orig_nbformat": 2
 },
 "nbformat": 4,
 "nbformat_minor": 2,
 "cells": [
  {
   "source": [
    "## Tratamento de Exceções\n",
    "\n",
    "https://docs.python.org/pt-br/3/tutorial/errors.html\n",
    "\n",
    "\n",
    "Estrutura geral\n",
    "\n",
    "try:\n",
    "\n",
    ".... try_suite\n",
    "\n",
    "except exception_group1 as variable1:\n",
    "\n",
    ".... except_suite1\n",
    "\n",
    ".\n",
    "\n",
    ".\n",
    "\n",
    ".\n",
    "\n",
    "except exception_groupN as variableN:\n",
    "\n",
    ".... except_suiteN\n",
    "\n",
    "else:\n",
    "\n",
    ".... else_suite\n",
    "\n",
    "finally:\n",
    "\n",
    ".... finally_suite"
   ],
   "cell_type": "markdown",
   "metadata": {}
  },
  {
   "source": [
    "Lista de algumas Exceções comuns \n",
    "\n",
    "https://www.programiz.com/python-programming/exceptions"
   ],
   "cell_type": "markdown",
   "metadata": {}
  },
  {
   "cell_type": "code",
   "execution_count": null,
   "metadata": {},
   "outputs": [],
   "source": []
  }
 ]
}