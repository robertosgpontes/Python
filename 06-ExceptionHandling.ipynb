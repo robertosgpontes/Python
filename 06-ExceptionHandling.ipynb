{
  "nbformat": 4,
  "nbformat_minor": 0,
  "metadata": {
    "orig_nbformat": 2,
    "colab": {
      "name": "06-ExceptionHandling.ipynb",
      "provenance": [],
      "include_colab_link": true
    },
    "language_info": {
      "name": "python"
    },
    "kernelspec": {
      "name": "python3",
      "display_name": "Python 3"
    }
  },
  "cells": [
    {
      "cell_type": "markdown",
      "metadata": {
        "id": "view-in-github",
        "colab_type": "text"
      },
      "source": [
        "<a href=\"https://colab.research.google.com/github/robertosgpontes/Python/blob/main/06-ExceptionHandling.ipynb\" target=\"_parent\"><img src=\"https://colab.research.google.com/assets/colab-badge.svg\" alt=\"Open In Colab\"/></a>"
      ]
    },
    {
      "cell_type": "markdown",
      "metadata": {
        "id": "F5CGhmWH_SRb"
      },
      "source": [
        "## Tratamento de Exceções\n",
        "\n",
        "https://docs.python.org/pt-br/3/tutorial/errors.html\n",
        "\n",
        "\n",
        "Estrutura geral\n",
        "\n",
        "try:\n",
        "\n",
        ".... try_suite\n",
        "\n",
        "except exception_group1 as variable1:\n",
        "\n",
        ".... except_suite1\n",
        "\n",
        ".\n",
        "\n",
        ".\n",
        "\n",
        ".\n",
        "\n",
        "except exception_groupN as variableN:\n",
        "\n",
        ".... except_suiteN\n",
        "\n",
        "else:\n",
        "\n",
        ".... else_suite\n",
        "\n",
        "finally:\n",
        "\n",
        ".... finally_suite"
      ]
    },
    {
      "cell_type": "markdown",
      "metadata": {
        "id": "OYu7bMpX_SRg"
      },
      "source": [
        "Lista de algumas Exceções comuns \n",
        "\n",
        "https://www.programiz.com/python-programming/exceptions"
      ]
    },
    {
      "cell_type": "code",
      "metadata": {
        "id": "RIKNU26E_SRi",
        "outputId": "327f07cd-f41e-4e46-b92f-34f8230e813f",
        "colab": {
          "base_uri": "https://localhost:8080/",
          "height": 207
        }
      },
      "source": [
        "a = 10\n",
        "b = 0.0000\n",
        "\n",
        "a/b"
      ],
      "execution_count": 4,
      "outputs": [
        {
          "output_type": "error",
          "ename": "ZeroDivisionError",
          "evalue": "ignored",
          "traceback": [
            "\u001b[0;31m---------------------------------------------------------------------------\u001b[0m",
            "\u001b[0;31mZeroDivisionError\u001b[0m                         Traceback (most recent call last)",
            "\u001b[0;32m<ipython-input-4-2ae2872ffc85>\u001b[0m in \u001b[0;36m<module>\u001b[0;34m()\u001b[0m\n\u001b[1;32m      2\u001b[0m \u001b[0mb\u001b[0m \u001b[0;34m=\u001b[0m \u001b[0;36m0.0000\u001b[0m\u001b[0;34m\u001b[0m\u001b[0;34m\u001b[0m\u001b[0m\n\u001b[1;32m      3\u001b[0m \u001b[0;34m\u001b[0m\u001b[0m\n\u001b[0;32m----> 4\u001b[0;31m \u001b[0ma\u001b[0m\u001b[0;34m/\u001b[0m\u001b[0mb\u001b[0m\u001b[0;34m\u001b[0m\u001b[0;34m\u001b[0m\u001b[0m\n\u001b[0m",
            "\u001b[0;31mZeroDivisionError\u001b[0m: float division by zero"
          ]
        }
      ]
    },
    {
      "cell_type": "code",
      "metadata": {
        "id": "D3kcCdSAATuN",
        "outputId": "2eb32567-f715-4bcb-e233-9295b78bc163",
        "colab": {
          "base_uri": "https://localhost:8080/",
          "height": 171
        }
      },
      "source": [
        "\n",
        "f = open(\"demofile.txt\", \"r\")"
      ],
      "execution_count": 5,
      "outputs": [
        {
          "output_type": "error",
          "ename": "FileNotFoundError",
          "evalue": "ignored",
          "traceback": [
            "\u001b[0;31m---------------------------------------------------------------------------\u001b[0m",
            "\u001b[0;31mFileNotFoundError\u001b[0m                         Traceback (most recent call last)",
            "\u001b[0;32m<ipython-input-5-abc13d57f2cf>\u001b[0m in \u001b[0;36m<module>\u001b[0;34m()\u001b[0m\n\u001b[0;32m----> 1\u001b[0;31m \u001b[0mf\u001b[0m \u001b[0;34m=\u001b[0m \u001b[0mopen\u001b[0m\u001b[0;34m(\u001b[0m\u001b[0;34m\"demofile.txt\"\u001b[0m\u001b[0;34m,\u001b[0m \u001b[0;34m\"r\"\u001b[0m\u001b[0;34m)\u001b[0m\u001b[0;34m\u001b[0m\u001b[0;34m\u001b[0m\u001b[0m\n\u001b[0m",
            "\u001b[0;31mFileNotFoundError\u001b[0m: [Errno 2] No such file or directory: 'demofile.txt'"
          ]
        }
      ]
    },
    {
      "cell_type": "code",
      "metadata": {
        "id": "aPynHTp6A7Xl",
        "outputId": "64ac878e-777a-4387-fa19-d8939be49138",
        "colab": {
          "base_uri": "https://localhost:8080/",
          "height": 225
        }
      },
      "source": [
        "a = 10\n",
        "b = 0.0000\n",
        "\n",
        "try:\n",
        "  c = a/b\n",
        "\n",
        "  print(c)\n",
        "\n",
        "except:\n",
        "  print('Erro')"
      ],
      "execution_count": 7,
      "outputs": [
        {
          "output_type": "stream",
          "text": [
            "Erro\n"
          ],
          "name": "stdout"
        },
        {
          "output_type": "error",
          "ename": "NameError",
          "evalue": "ignored",
          "traceback": [
            "\u001b[0;31m---------------------------------------------------------------------------\u001b[0m",
            "\u001b[0;31mNameError\u001b[0m                                 Traceback (most recent call last)",
            "\u001b[0;32m<ipython-input-7-8b4696aa611a>\u001b[0m in \u001b[0;36m<module>\u001b[0;34m()\u001b[0m\n\u001b[1;32m      8\u001b[0m   \u001b[0mprint\u001b[0m\u001b[0;34m(\u001b[0m\u001b[0;34m'Erro'\u001b[0m\u001b[0;34m)\u001b[0m\u001b[0;34m\u001b[0m\u001b[0;34m\u001b[0m\u001b[0m\n\u001b[1;32m      9\u001b[0m \u001b[0;34m\u001b[0m\u001b[0m\n\u001b[0;32m---> 10\u001b[0;31m \u001b[0mprint\u001b[0m\u001b[0;34m(\u001b[0m\u001b[0mc\u001b[0m\u001b[0;34m)\u001b[0m\u001b[0;34m\u001b[0m\u001b[0;34m\u001b[0m\u001b[0m\n\u001b[0m",
            "\u001b[0;31mNameError\u001b[0m: name 'c' is not defined"
          ]
        }
      ]
    },
    {
      "cell_type": "code",
      "metadata": {
        "id": "Gc0QtBXKBfn9",
        "outputId": "ca07a683-f5fa-4753-aca9-34479fb38393",
        "colab": {
          "base_uri": "https://localhost:8080/",
          "height": 225
        }
      },
      "source": [
        "#Esta celular funcionaria no terminal\n",
        "# Acontecendo o erro o programa para\n",
        "a = 10\n",
        "b = 0.0000\n",
        "\n",
        "try:\n",
        "  c = a/b\n",
        "except:\n",
        "  print('Erro')\n",
        "  exit(1)\n",
        "\n",
        "print(c)"
      ],
      "execution_count": 11,
      "outputs": [
        {
          "output_type": "stream",
          "text": [
            "Erro\n"
          ],
          "name": "stdout"
        },
        {
          "output_type": "error",
          "ename": "NameError",
          "evalue": "ignored",
          "traceback": [
            "\u001b[0;31m---------------------------------------------------------------------------\u001b[0m",
            "\u001b[0;31mNameError\u001b[0m                                 Traceback (most recent call last)",
            "\u001b[0;32m<ipython-input-11-d5109743795e>\u001b[0m in \u001b[0;36m<module>\u001b[0;34m()\u001b[0m\n\u001b[1;32m      8\u001b[0m   \u001b[0mexit\u001b[0m\u001b[0;34m(\u001b[0m\u001b[0;36m1\u001b[0m\u001b[0;34m)\u001b[0m\u001b[0;34m\u001b[0m\u001b[0;34m\u001b[0m\u001b[0m\n\u001b[1;32m      9\u001b[0m \u001b[0;34m\u001b[0m\u001b[0m\n\u001b[0;32m---> 10\u001b[0;31m \u001b[0mprint\u001b[0m\u001b[0;34m(\u001b[0m\u001b[0mc\u001b[0m\u001b[0;34m)\u001b[0m\u001b[0;34m\u001b[0m\u001b[0;34m\u001b[0m\u001b[0m\n\u001b[0m",
            "\u001b[0;31mNameError\u001b[0m: name 'c' is not defined"
          ]
        }
      ]
    },
    {
      "cell_type": "code",
      "metadata": {
        "id": "UJluaeY9Bqbf",
        "outputId": "d98865f0-5dd6-413b-c3a9-df0ab7e1f5ab",
        "colab": {
          "base_uri": "https://localhost:8080/"
        }
      },
      "source": [
        "#Esta celular funcionaria no terminal\n",
        "# Acontecendo o erro o programa para\n",
        "a = 10\n",
        "b = 1\n",
        "\n",
        "try:\n",
        "  c = a/b\n",
        "  f = open(\"demofile.txt\", \"r\")\n",
        "except:\n",
        "  print('Erro')\n",
        "\n",
        "print(c)"
      ],
      "execution_count": 12,
      "outputs": [
        {
          "output_type": "stream",
          "text": [
            "Erro\n",
            "10.0\n"
          ],
          "name": "stdout"
        }
      ]
    },
    {
      "cell_type": "code",
      "metadata": {
        "id": "_lXum-yTCUW9",
        "outputId": "db0219af-f3f5-46dd-84a3-b6aa20fb2f5a",
        "colab": {
          "base_uri": "https://localhost:8080/",
          "height": 243
        }
      },
      "source": [
        "#Esta celular funcionaria no terminal\n",
        "# Acontecendo o erro o programa para\n",
        "a = 10\n",
        "b = 0\n",
        "\n",
        "try:\n",
        "  c = a/b\n",
        "  f = open(\"demofile.txt\", \"r\")\n",
        "except FileNotFoundError:\n",
        "  print('Erro!! -- Arquivo nao Encontrado')\n",
        "\n",
        "print(c)"
      ],
      "execution_count": 17,
      "outputs": [
        {
          "output_type": "error",
          "ename": "ZeroDivisionError",
          "evalue": "ignored",
          "traceback": [
            "\u001b[0;31m---------------------------------------------------------------------------\u001b[0m",
            "\u001b[0;31mZeroDivisionError\u001b[0m                         Traceback (most recent call last)",
            "\u001b[0;32m<ipython-input-17-3db21590cc45>\u001b[0m in \u001b[0;36m<module>\u001b[0;34m()\u001b[0m\n\u001b[1;32m      5\u001b[0m \u001b[0;34m\u001b[0m\u001b[0m\n\u001b[1;32m      6\u001b[0m \u001b[0;32mtry\u001b[0m\u001b[0;34m:\u001b[0m\u001b[0;34m\u001b[0m\u001b[0;34m\u001b[0m\u001b[0m\n\u001b[0;32m----> 7\u001b[0;31m   \u001b[0mc\u001b[0m \u001b[0;34m=\u001b[0m \u001b[0ma\u001b[0m\u001b[0;34m/\u001b[0m\u001b[0mb\u001b[0m\u001b[0;34m\u001b[0m\u001b[0;34m\u001b[0m\u001b[0m\n\u001b[0m\u001b[1;32m      8\u001b[0m   \u001b[0mf\u001b[0m \u001b[0;34m=\u001b[0m \u001b[0mopen\u001b[0m\u001b[0;34m(\u001b[0m\u001b[0;34m\"demofile.txt\"\u001b[0m\u001b[0;34m,\u001b[0m \u001b[0;34m\"r\"\u001b[0m\u001b[0;34m)\u001b[0m\u001b[0;34m\u001b[0m\u001b[0;34m\u001b[0m\u001b[0m\n\u001b[1;32m      9\u001b[0m \u001b[0;32mexcept\u001b[0m \u001b[0mFileNotFoundError\u001b[0m\u001b[0;34m:\u001b[0m\u001b[0;34m\u001b[0m\u001b[0;34m\u001b[0m\u001b[0m\n",
            "\u001b[0;31mZeroDivisionError\u001b[0m: division by zero"
          ]
        }
      ]
    },
    {
      "cell_type": "code",
      "metadata": {
        "id": "SJ09AC9cCK_l",
        "outputId": "4cce2a03-1d29-42a5-98c4-bf36fc203a89",
        "colab": {
          "base_uri": "https://localhost:8080/"
        }
      },
      "source": [
        "#Esta celular funcionaria no terminal\n",
        "# Acontecendo o erro o programa para\n",
        "a = 10\n",
        "b = 0\n",
        "\n",
        "try:\n",
        "  c = a/b\n",
        "  f = open(\"demofile.txt\", \"r\")\n",
        "except FileNotFoundError:\n",
        "  print('Erro!! -- Arquivo nao Encontrado')\n",
        "except ZeroDivisionError:\n",
        "  print('Erro!! -- Divisão por zero')\n",
        "  c = 0\n",
        "\n",
        "print(c)"
      ],
      "execution_count": 20,
      "outputs": [
        {
          "output_type": "stream",
          "text": [
            "Erro!! -- Divisão por zero\n",
            "0\n"
          ],
          "name": "stdout"
        }
      ]
    },
    {
      "cell_type": "code",
      "metadata": {
        "id": "nzm8DIulDIl8",
        "outputId": "74f5ffb1-61d3-425c-9ba6-bf9b331e679e",
        "colab": {
          "base_uri": "https://localhost:8080/"
        }
      },
      "source": [
        "#Esta celular funcionaria no terminal\n",
        "# Acontecendo o erro o programa para\n",
        "a = 10\n",
        "b = 1\n",
        "\n",
        "try:\n",
        "  c = a/b\n",
        "  f = open(\"demofile.txt\", \"r\")\n",
        "except FileNotFoundError:\n",
        "  print('Erro!! -- Arquivo nao Encontrado')\n",
        "except ZeroDivisionError:\n",
        "  print('Erro!! -- Divisão por zero')\n",
        "  c = 0\n",
        "else: # Executa se não houve exceção\n",
        "  print(\"print\")\n",
        "finally: # executa sempre\n",
        "  print('print1')\n",
        "\n",
        "print(c)"
      ],
      "execution_count": 25,
      "outputs": [
        {
          "output_type": "stream",
          "text": [
            "Erro!! -- Arquivo nao Encontrado\n",
            "print1\n",
            "10.0\n"
          ],
          "name": "stdout"
        }
      ]
    },
    {
      "cell_type": "code",
      "metadata": {
        "id": "v3D0fZOVD1ty",
        "outputId": "43c51a8f-4c8e-4951-f415-8ebefafcd67b",
        "colab": {
          "base_uri": "https://localhost:8080/"
        }
      },
      "source": [
        "#Esta celular funcionaria no terminal\n",
        "# Acontecendo o erro o programa para\n",
        "a = 10\n",
        "b = 1\n",
        "\n",
        "try:\n",
        "  c = a/b\n",
        "  f = open(\"demofile.txt\", \"r\")\n",
        "except FileNotFoundError:\n",
        "  print('Erro!! -- Arquivo nao Encontrado')\n",
        "except:\n",
        "  print('geral')\n",
        "else: # Executa se não houve exceção\n",
        "  print(\"print\")\n",
        "finally: # executa sempre\n",
        "  print('print1')\n",
        "\n",
        "print(c)"
      ],
      "execution_count": 26,
      "outputs": [
        {
          "output_type": "stream",
          "text": [
            "Erro!! -- Arquivo nao Encontrado\n",
            "print1\n",
            "10.0\n"
          ],
          "name": "stdout"
        }
      ]
    },
    {
      "cell_type": "code",
      "metadata": {
        "id": "RaVAt9hKD6hP",
        "outputId": "e6442470-deae-4b90-bd81-e79c658177a6",
        "colab": {
          "base_uri": "https://localhost:8080/"
        }
      },
      "source": [
        "#Esta celular funcionaria no terminal\n",
        "# Acontecendo o erro o programa para\n",
        "a = 10\n",
        "b = 0\n",
        "\n",
        "try:\n",
        "  c = a/b\n",
        "  f = open(\"demofile.txt\", \"r\")\n",
        "except FileNotFoundError:\n",
        "  print('Erro!! -- Arquivo nao Encontrado')\n",
        "except:\n",
        "  print('geral')\n",
        "else: # Executa se não houve exceção\n",
        "  print(\"print\")\n",
        "finally: # executa sempre\n",
        "  print('print1')\n",
        "\n",
        "print(c)"
      ],
      "execution_count": 27,
      "outputs": [
        {
          "output_type": "stream",
          "text": [
            "geral\n",
            "print1\n",
            "10.0\n"
          ],
          "name": "stdout"
        }
      ]
    }
  ]
}