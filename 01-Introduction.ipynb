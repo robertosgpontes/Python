{
 "cells": [
  {
   "cell_type": "markdown",
   "metadata": {},
   "source": [
    "Programming in Python 3 -- A Complete Introduction to the Python Language, Mark Summerfield, Second Edition.\n",
    "\n",
    "\n",
    "https://kenzie.com.br/blog/o-que-e-python/\n",
    "\n",
    "https://computerworld.com.br/carreira/python-10-motivos-para-aprender-a-linguagem-em-2019/\n",
    "\n",
    "\n",
    "* Tipos de dados\n",
    "* Referências de Objeto\n",
    "* Tipos de dados de coleções\n",
    "    * Listas\n",
    "    * Tuplas\n",
    "    * Dicionários\n",
    "* Operadores Lógicos\n",
    "* Operadores Aritméticos\n",
    "* Input/Output\n"
   ]
  }
 ],
 "metadata": {
  "kernelspec": {
   "display_name": "Python 3",
   "language": "python",
   "name": "python3"
  },
  "language_info": {
   "codemirror_mode": {
    "name": "ipython",
    "version": 3
   },
   "file_extension": ".py",
   "mimetype": "text/x-python",
   "name": "python",
   "nbconvert_exporter": "python",
   "pygments_lexer": "ipython3",
   "version": "3.8.5"
  }
 },
 "nbformat": 4,
 "nbformat_minor": 4
}
